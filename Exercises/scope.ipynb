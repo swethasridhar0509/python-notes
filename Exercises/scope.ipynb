{
 "cells": [
  {
   "cell_type": "code",
   "execution_count": null,
   "metadata": {},
   "outputs": [],
   "source": [
    "tuple = {\"name\": \"john doe\"}\n",
    "print(tuple(0, 1, 2)) # Using built-in functions as identifiers masks default behavior."
   ]
  },
  {
   "cell_type": "markdown",
   "metadata": {},
   "source": [
    "### Global scope"
   ]
  },
  {
   "cell_type": "code",
   "execution_count": null,
   "metadata": {},
   "outputs": [],
   "source": [
    "x = \"global x\" \n",
    "\n",
    "def level_one():\n",
    "    return x\n",
    "\n",
    "print(level_one()) # return global x"
   ]
  },
  {
   "cell_type": "code",
   "execution_count": null,
   "metadata": {},
   "outputs": [],
   "source": [
    "'''\n",
    "\n",
    "1. RULE: Lookups happens at runtime, location is decided at compile time.\n",
    "2. No x in local scope, x in the global scope is used.\n",
    "3. Avoid naming conflicts with namespaces, x is present in both local and global scope.'\n",
    "\n",
    "'''"
   ]
  },
  {
   "cell_type": "markdown",
   "metadata": {},
   "source": [
    "### Local scope"
   ]
  },
  {
   "cell_type": "code",
   "execution_count": null,
   "metadata": {},
   "outputs": [],
   "source": [
    "x = \"global x\" \n",
    "\n",
    "def level_two(v):\n",
    "    # print(x) # Trying to access x before assignment throws UnboundLocalError\n",
    "    if v:\n",
    "        x = \"local x\"\n",
    "    return x\n",
    "\n",
    "print(level_two(True)) # return local x"
   ]
  },
  {
   "cell_type": "code",
   "execution_count": null,
   "metadata": {},
   "outputs": [],
   "source": [
    "print(level_two(False)) # throws UnboundLocalError\n",
    "\n",
    "'''\n",
    "1. Python compiles the function before execution and creates a function object.\n",
    "2. Detects assignment statement and marks x as local variable.\n",
    "3. If v = False, there is no assignment, hence the error UnboundLocalError\n",
    "4. UnboundLocalError: cannot access local variable 'x' where it is not associated with a value'\n",
    "\n",
    "'''"
   ]
  },
  {
   "cell_type": "code",
   "execution_count": null,
   "metadata": {},
   "outputs": [],
   "source": [
    "def square(base):\n",
    "    result = base ** 2\n",
    "    print(f\"Square of {base} : {result}\")\n",
    "\n",
    "# New L. scope for each function call.\n",
    "square(20) # Square of 20 : 400\n",
    "\n",
    "# New L. scope for each function call.\n",
    "square(10) # Square of 10 : 100"
   ]
  },
  {
   "cell_type": "code",
   "execution_count": null,
   "metadata": {},
   "outputs": [],
   "source": [
    "# Reuse variable names, cube's local scope has no knowledge about square's \n",
    "def cube(base):\n",
    "    result = base ** 3\n",
    "    print(f\"Cube of {base} : {result}\")\n",
    "\n",
    "# Trying to access local var: result outside throws NameError.\n",
    "print(result) # NameError: name 'result' is not defined"
   ]
  },
  {
   "cell_type": "markdown",
   "metadata": {},
   "source": [
    "### Enclosing Scope"
   ]
  },
  {
   "cell_type": "code",
   "execution_count": 23,
   "metadata": {},
   "outputs": [
    {
     "name": "stdout",
     "output_type": "stream",
     "text": [
      "(<cell at 0x000002049655AB00: str object at 0x0000020496B84BF0>,)\n",
      "{'__name__': '__main__', '__doc__': 'Automatically created module for IPython interactive environment', '__package__': None, '__loader__': None, '__spec__': None, '__builtin__': <module 'builtins' (built-in)>, '__builtins__': <module 'builtins' (built-in)>, '_ih': ['', 'x = \"global x\"\\nprint(f\"Global variables: {globals().get(\\'x\\')}\")\\n\\ndef global_and_nonlocal():\\n    x = \"nonlocal x\"\\n    print(f\"Enclosing variables: {locals()}\")\\n\\n    def inner():\\n        nonlocal x\\n        x = \"overwritten nonglobal x\"\\n        print(f\"Local Vars: {locals()}\")\\n    \\n    inner()\\n    print(f\"Enclosing variables: {locals()}\")\\n\\nglobal_and_nonlocal()\\nprint(x) # global variable remains unchanged # global x', 'x = \"global x\"\\nprint(f\"Global variables: {globals().get(\\'x\\')}\")\\n\\ndef global_and_nonlocal():\\n    x = \"nonlocal x\"\\n    print(f\"Enclosing variables: {locals()}\")\\n\\n    def inner():\\n        nonlocal x\\n        x = \"overwritten nonglobal x\"\\n        print(f\"Local Vars: {locals()}\")\\n    \\n    inner()\\n    print(f\"Enclosing variables: {locals()}\")\\n\\nglobal_and_nonlocal()\\nprint(x) # global variable remains unchanged # global x', 'x = \"global x\"\\nprint(f\"Global variables: {globals().get(\\'x\\')}\")\\n\\ndef global_and_nonlocal():\\n    x = \"nonlocal x\"\\n    print(f\"Enclosing variables: {locals()}\")\\n\\n    def inner():\\n        nonlocal x\\n        x = \"overwritten nonglobal x\"\\n        print(f\"Local Vars: {locals()}\")\\n    \\n    inner()\\n    print(f\"Enclosing variables: {locals()}\")\\n\\nglobal_and_nonlocal()\\nprint(x) # global variable remains unchanged # global x', 'x = \"global x\"\\nprint(f\"Global variables: {globals().get(\\'x\\')}\")\\n\\ndef global_and_nonlocal():\\n    x = \"nonlocal x\"\\n    print(f\"Enclosing variables: {locals()}\")  # {\\'x\\': \\'nonlocal x\\'}\\n\\n    def inner():\\n        nonlocal x\\n        x = \"overwritten nonglobal x\"\\n        print(f\"Local Vars: {locals()}\") # {} no L vars\\n    \\n    inner()\\n    print(f\"Enclosing variables: {locals()}\") # \\'x\\': \\'overwritten nonglobal x\\'\\n\\nglobal_and_nonlocal()\\nprint(x) # global variable remains unchanged # global x', 'x = \"global x\"\\nprint(f\"Global variables: {globals().get(\\'x\\')}\")\\n\\ndef global_and_nonlocal():\\n    x = \"nonlocal x\"\\n    print(f\"Enclosing variables: {locals()}\")  # {\\'x\\': \\'nonlocal x\\'}\\n\\n    def inner():\\n        global x\\n        x = \"overwritten global x\"\\n        print(f\"Local Vars: {locals()}\") # {} no L vars\\n    \\n    inner()\\n\\nglobal_and_nonlocal()\\nprint(x)', 'def level_one():\\n    x = \"nonlocal x\"\\n    \\n    def level_two():\\n        nonlocal x\\n        x = \"modified at level two\"\\n\\n        level_three()\\n    \\n    def level_three():\\n        nonlocal x\\n        x = \"modified at level three\"\\n\\n    return level_two()\\n    \\n\\nlevel_one()', 'def level_one():\\n    x = \"nonlocal x\"\\n    \\n    def level_two():\\n        nonlocal x\\n        x = \"modified at level two\"\\n\\n        level_three()\\n    \\n    def level_three():\\n        nonlocal x\\n        x = \"modified at level three\"\\n\\n    return level_two()\\n    \\n\\nlevel_one()\\nprint(x)', 'def level_one():\\n    x = \"nonlocal x\"\\n    \\n    def level_two():\\n        nonlocal x\\n        x = \"modified at level two\"\\n        print(x)\\n        level_three()\\n    \\n    def level_three():\\n        nonlocal x\\n        x = \"modified at level three\"\\n        print(x)\\n\\n    return level_two()\\n    \\n\\nlevel_one()', 'def level_one():\\n    x = \"nonlocal x\"\\n    \\n    def level_two():\\n        nonlocal x\\n        x = \"modified at level two\"\\n\\n        def level_three():\\n            nonlocal x\\n            x = \"modified at level three\"\\n\\n        level_three()\\n        print(f\"x after level three: {x}\")\\n\\n\\n    level_two()\\n    print(f\"x after level two: {x}\")\\n    \\n\\nlevel_one()', '# using global is considered as bad practice\\n# fix - pass immutable data types as arguments.\\n# mutable - pass a copy to avoid modifications.\\n\\nurl = \"http://www.google.com\"\\n\\ndef modify_url():\\n    url = url.replace(\"http\", \"https\")\\n\\nprint(url)', '# using global is considered as bad practice\\n# fix - pass immutable data types as arguments.\\n# mutable - pass a copy to avoid modifications.\\n\\nurl = \"http://www.google.com\"\\n\\ndef modify_url():\\n    url = url.replace(\"http\", \"https\")\\n\\nmodify_url()\\nprint(url)', '# using global is considered as bad practice\\n# fix - pass immutable data types as arguments.\\n# mutable - pass a copy to avoid modifications.\\n\\nurl = \"http://www.google.com\"\\n\\ndef modify_url():\\n    global url\\n    url = url.replace(\"http\", \"https\")\\n\\nmodify_url()\\nprint(url)', '# using global is considered as bad practice\\n# fix - pass immutable data types as arguments.\\n# mutable - pass a copy to avoid modifications.\\n\\nurl = \"http://www.google.com\"\\n\\n# bad practice\\ndef modify_url_bp():\\n    global url\\n    url = url.replace(\"http\", \"https\")\\n\\n# good practice\\ndef modify_url_gp(link):\\n    return link.replace(\"http\", \"https\")\\n\\nurl = modify_url_gp()\\nprint(url)', '# using global is considered as bad practice\\n# fix - pass immutable data types as arguments.\\n# mutable - pass a copy to avoid modifications.\\n\\nurl = \"http://www.google.com\"\\n\\n# bad practice\\ndef modify_url_bp():\\n    global url\\n    url = url.replace(\"http\", \"https\")\\n\\n# good practice\\ndef modify_url_gp(link):\\n    return link.replace(\"http\", \"https\")\\n\\nurl = modify_url_gp(url)\\nprint(url)', '# using global is considered as bad practice\\n# fix - pass immutable data types as arguments.\\n# mutable - pass a copy to avoid modifications.\\n\\nurl = \"http://www.google.com\"\\n\\n# bad practice\\ndef modify_url_bp():\\n    global url\\n    url = url.replace(\"http\", \"https\")\\n\\n# good practice\\ndef modify_url_gp(link): # pass as parameter\\n    return link.replace(\"http\", \"https\")\\n\\nurl = modify_url_gp(url)\\nprint(url)', 'counter = 0\\n\\ndef update_counter(count):\\n    return count + 1 \\n\\ncounter = update_counter(counter)\\nprint(counter)', 'counter = 0\\n\\ndef update_counter(count):\\n    return count + 1 \\n\\ncounter = update_counter(counter)\\nprint(counter)\\ncounter = update_counter(counter)\\nprint(counter)\\ncounter = update_counter(counter)\\nprint(counter)', 'x = \"global x\"\\n\\ndef level_three():\\n    z = \"first outer z\"\\n\\n    def inner(y):\\n        return x, y, z\\n    \\n    z = \"second outer z\"\\n    print(inner.__closure__) # reference to enclosing func namespace\\n    print(inner.__globals__) # reference to global namespace\\n    return inner(\"y arg\")\\n\\nprint(level_three()) # (\\'global x\\', \\'y arg\\', \\'second outer z\\')', \"'''\\nIn the end inner() is called.\\n1. y - passed as an arg, found in the local scope.\\n2. x - not in local and enclosing scope, found in global.\\n3. z - not defined in the local scope, found in the enclosing scope.\\nz is reassigned before invoking inner()\\n'''\", 'x = \"global x\"\\n\\ndef level_four():\\n    z = \"outer z\"\\n    def donky():\\n        def inner(y):\\n            return x, y, z\\n        return inner\\n    \\n    def chonky():\\n        x = \"chonky x\"\\n        f = donky()\\n        return f(\"y arg\")\\n    \\n    return chonky()\\n\\nprint(level_four()) # (\\'global x\\', \\'y arg\\', \\'outer z\\')', '\\'\\'\\'\\n# Execution flow\\n1. global - x, level_five\\n2. level_five is called, scope - z, donky, chonky, return - calls chonky\\n3. chonky - x, f -> calls donky -> inner, return - inner(\"y arg\")\\n4. donky - inner, returns inner\\n5. inner: y - local var, z - found in enclosing scope, x - global scope\\n\\'\\'\\'', 'def level_five():\\n    \\n    def inner():\\n        if False:\\n            a = None\\n        \\n        def gen_func():\\n            nonlocal a\\n            for v in range(10):\\n                a = v\\n                yield v \\n                \\n        return gen_func(), lambda: a\\n        \\n    gen, fun = inner()\\n    \\n    print(fun()) # throws NameError, because a is not defined\\n    next(gen)\\n    print(fun())\\n    next(gen)\\n    print(fun())\\n    next(gen)\\n    print(fun())\\n\\nlevel_five()', 'x = \"global x\"\\n\\ndef level_three():\\n    z = \"first outer z\"\\n\\n    def inner(y):\\n        return x, y, z\\n    \\n    z = \"second outer z\"\\n    print(inner.__closure__) # reference to enclosing func namespace\\n    print(inner.__globals__) # reference to global namespace\\n    return inner(\"y arg\")\\n\\nprint(level_three()) # (\\'global x\\', \\'y arg\\', \\'second outer z\\')'], '_oh': {19: '\\nIn the end inner() is called.\\n1. y - passed as an arg, found in the local scope.\\n2. x - not in local and enclosing scope, found in global.\\n3. z - not defined in the local scope, found in the enclosing scope.\\nz is reassigned before invoking inner()\\n', 21: '\\n# Execution flow\\n1. global - x, level_five\\n2. level_five is called, scope - z, donky, chonky, return - calls chonky\\n3. chonky - x, f -> calls donky -> inner, return - inner(\"y arg\")\\n4. donky - inner, returns inner\\n5. inner: y - local var, z - found in enclosing scope, x - global scope\\n'}, '_dh': [WindowsPath('c:/Users/sweth/Desktop/Preparation-2025/python-notes')], 'In': ['', 'x = \"global x\"\\nprint(f\"Global variables: {globals().get(\\'x\\')}\")\\n\\ndef global_and_nonlocal():\\n    x = \"nonlocal x\"\\n    print(f\"Enclosing variables: {locals()}\")\\n\\n    def inner():\\n        nonlocal x\\n        x = \"overwritten nonglobal x\"\\n        print(f\"Local Vars: {locals()}\")\\n    \\n    inner()\\n    print(f\"Enclosing variables: {locals()}\")\\n\\nglobal_and_nonlocal()\\nprint(x) # global variable remains unchanged # global x', 'x = \"global x\"\\nprint(f\"Global variables: {globals().get(\\'x\\')}\")\\n\\ndef global_and_nonlocal():\\n    x = \"nonlocal x\"\\n    print(f\"Enclosing variables: {locals()}\")\\n\\n    def inner():\\n        nonlocal x\\n        x = \"overwritten nonglobal x\"\\n        print(f\"Local Vars: {locals()}\")\\n    \\n    inner()\\n    print(f\"Enclosing variables: {locals()}\")\\n\\nglobal_and_nonlocal()\\nprint(x) # global variable remains unchanged # global x', 'x = \"global x\"\\nprint(f\"Global variables: {globals().get(\\'x\\')}\")\\n\\ndef global_and_nonlocal():\\n    x = \"nonlocal x\"\\n    print(f\"Enclosing variables: {locals()}\")\\n\\n    def inner():\\n        nonlocal x\\n        x = \"overwritten nonglobal x\"\\n        print(f\"Local Vars: {locals()}\")\\n    \\n    inner()\\n    print(f\"Enclosing variables: {locals()}\")\\n\\nglobal_and_nonlocal()\\nprint(x) # global variable remains unchanged # global x', 'x = \"global x\"\\nprint(f\"Global variables: {globals().get(\\'x\\')}\")\\n\\ndef global_and_nonlocal():\\n    x = \"nonlocal x\"\\n    print(f\"Enclosing variables: {locals()}\")  # {\\'x\\': \\'nonlocal x\\'}\\n\\n    def inner():\\n        nonlocal x\\n        x = \"overwritten nonglobal x\"\\n        print(f\"Local Vars: {locals()}\") # {} no L vars\\n    \\n    inner()\\n    print(f\"Enclosing variables: {locals()}\") # \\'x\\': \\'overwritten nonglobal x\\'\\n\\nglobal_and_nonlocal()\\nprint(x) # global variable remains unchanged # global x', 'x = \"global x\"\\nprint(f\"Global variables: {globals().get(\\'x\\')}\")\\n\\ndef global_and_nonlocal():\\n    x = \"nonlocal x\"\\n    print(f\"Enclosing variables: {locals()}\")  # {\\'x\\': \\'nonlocal x\\'}\\n\\n    def inner():\\n        global x\\n        x = \"overwritten global x\"\\n        print(f\"Local Vars: {locals()}\") # {} no L vars\\n    \\n    inner()\\n\\nglobal_and_nonlocal()\\nprint(x)', 'def level_one():\\n    x = \"nonlocal x\"\\n    \\n    def level_two():\\n        nonlocal x\\n        x = \"modified at level two\"\\n\\n        level_three()\\n    \\n    def level_three():\\n        nonlocal x\\n        x = \"modified at level three\"\\n\\n    return level_two()\\n    \\n\\nlevel_one()', 'def level_one():\\n    x = \"nonlocal x\"\\n    \\n    def level_two():\\n        nonlocal x\\n        x = \"modified at level two\"\\n\\n        level_three()\\n    \\n    def level_three():\\n        nonlocal x\\n        x = \"modified at level three\"\\n\\n    return level_two()\\n    \\n\\nlevel_one()\\nprint(x)', 'def level_one():\\n    x = \"nonlocal x\"\\n    \\n    def level_two():\\n        nonlocal x\\n        x = \"modified at level two\"\\n        print(x)\\n        level_three()\\n    \\n    def level_three():\\n        nonlocal x\\n        x = \"modified at level three\"\\n        print(x)\\n\\n    return level_two()\\n    \\n\\nlevel_one()', 'def level_one():\\n    x = \"nonlocal x\"\\n    \\n    def level_two():\\n        nonlocal x\\n        x = \"modified at level two\"\\n\\n        def level_three():\\n            nonlocal x\\n            x = \"modified at level three\"\\n\\n        level_three()\\n        print(f\"x after level three: {x}\")\\n\\n\\n    level_two()\\n    print(f\"x after level two: {x}\")\\n    \\n\\nlevel_one()', '# using global is considered as bad practice\\n# fix - pass immutable data types as arguments.\\n# mutable - pass a copy to avoid modifications.\\n\\nurl = \"http://www.google.com\"\\n\\ndef modify_url():\\n    url = url.replace(\"http\", \"https\")\\n\\nprint(url)', '# using global is considered as bad practice\\n# fix - pass immutable data types as arguments.\\n# mutable - pass a copy to avoid modifications.\\n\\nurl = \"http://www.google.com\"\\n\\ndef modify_url():\\n    url = url.replace(\"http\", \"https\")\\n\\nmodify_url()\\nprint(url)', '# using global is considered as bad practice\\n# fix - pass immutable data types as arguments.\\n# mutable - pass a copy to avoid modifications.\\n\\nurl = \"http://www.google.com\"\\n\\ndef modify_url():\\n    global url\\n    url = url.replace(\"http\", \"https\")\\n\\nmodify_url()\\nprint(url)', '# using global is considered as bad practice\\n# fix - pass immutable data types as arguments.\\n# mutable - pass a copy to avoid modifications.\\n\\nurl = \"http://www.google.com\"\\n\\n# bad practice\\ndef modify_url_bp():\\n    global url\\n    url = url.replace(\"http\", \"https\")\\n\\n# good practice\\ndef modify_url_gp(link):\\n    return link.replace(\"http\", \"https\")\\n\\nurl = modify_url_gp()\\nprint(url)', '# using global is considered as bad practice\\n# fix - pass immutable data types as arguments.\\n# mutable - pass a copy to avoid modifications.\\n\\nurl = \"http://www.google.com\"\\n\\n# bad practice\\ndef modify_url_bp():\\n    global url\\n    url = url.replace(\"http\", \"https\")\\n\\n# good practice\\ndef modify_url_gp(link):\\n    return link.replace(\"http\", \"https\")\\n\\nurl = modify_url_gp(url)\\nprint(url)', '# using global is considered as bad practice\\n# fix - pass immutable data types as arguments.\\n# mutable - pass a copy to avoid modifications.\\n\\nurl = \"http://www.google.com\"\\n\\n# bad practice\\ndef modify_url_bp():\\n    global url\\n    url = url.replace(\"http\", \"https\")\\n\\n# good practice\\ndef modify_url_gp(link): # pass as parameter\\n    return link.replace(\"http\", \"https\")\\n\\nurl = modify_url_gp(url)\\nprint(url)', 'counter = 0\\n\\ndef update_counter(count):\\n    return count + 1 \\n\\ncounter = update_counter(counter)\\nprint(counter)', 'counter = 0\\n\\ndef update_counter(count):\\n    return count + 1 \\n\\ncounter = update_counter(counter)\\nprint(counter)\\ncounter = update_counter(counter)\\nprint(counter)\\ncounter = update_counter(counter)\\nprint(counter)', 'x = \"global x\"\\n\\ndef level_three():\\n    z = \"first outer z\"\\n\\n    def inner(y):\\n        return x, y, z\\n    \\n    z = \"second outer z\"\\n    print(inner.__closure__) # reference to enclosing func namespace\\n    print(inner.__globals__) # reference to global namespace\\n    return inner(\"y arg\")\\n\\nprint(level_three()) # (\\'global x\\', \\'y arg\\', \\'second outer z\\')', \"'''\\nIn the end inner() is called.\\n1. y - passed as an arg, found in the local scope.\\n2. x - not in local and enclosing scope, found in global.\\n3. z - not defined in the local scope, found in the enclosing scope.\\nz is reassigned before invoking inner()\\n'''\", 'x = \"global x\"\\n\\ndef level_four():\\n    z = \"outer z\"\\n    def donky():\\n        def inner(y):\\n            return x, y, z\\n        return inner\\n    \\n    def chonky():\\n        x = \"chonky x\"\\n        f = donky()\\n        return f(\"y arg\")\\n    \\n    return chonky()\\n\\nprint(level_four()) # (\\'global x\\', \\'y arg\\', \\'outer z\\')', '\\'\\'\\'\\n# Execution flow\\n1. global - x, level_five\\n2. level_five is called, scope - z, donky, chonky, return - calls chonky\\n3. chonky - x, f -> calls donky -> inner, return - inner(\"y arg\")\\n4. donky - inner, returns inner\\n5. inner: y - local var, z - found in enclosing scope, x - global scope\\n\\'\\'\\'', 'def level_five():\\n    \\n    def inner():\\n        if False:\\n            a = None\\n        \\n        def gen_func():\\n            nonlocal a\\n            for v in range(10):\\n                a = v\\n                yield v \\n                \\n        return gen_func(), lambda: a\\n        \\n    gen, fun = inner()\\n    \\n    print(fun()) # throws NameError, because a is not defined\\n    next(gen)\\n    print(fun())\\n    next(gen)\\n    print(fun())\\n    next(gen)\\n    print(fun())\\n\\nlevel_five()', 'x = \"global x\"\\n\\ndef level_three():\\n    z = \"first outer z\"\\n\\n    def inner(y):\\n        return x, y, z\\n    \\n    z = \"second outer z\"\\n    print(inner.__closure__) # reference to enclosing func namespace\\n    print(inner.__globals__) # reference to global namespace\\n    return inner(\"y arg\")\\n\\nprint(level_three()) # (\\'global x\\', \\'y arg\\', \\'second outer z\\')'], 'Out': {19: '\\nIn the end inner() is called.\\n1. y - passed as an arg, found in the local scope.\\n2. x - not in local and enclosing scope, found in global.\\n3. z - not defined in the local scope, found in the enclosing scope.\\nz is reassigned before invoking inner()\\n', 21: '\\n# Execution flow\\n1. global - x, level_five\\n2. level_five is called, scope - z, donky, chonky, return - calls chonky\\n3. chonky - x, f -> calls donky -> inner, return - inner(\"y arg\")\\n4. donky - inner, returns inner\\n5. inner: y - local var, z - found in enclosing scope, x - global scope\\n'}, 'get_ipython': <bound method InteractiveShell.get_ipython of <ipykernel.zmqshell.ZMQInteractiveShell object at 0x00000204963D5150>>, 'exit': <IPython.core.autocall.ZMQExitAutocall object at 0x00000204963E9E10>, 'quit': <IPython.core.autocall.ZMQExitAutocall object at 0x00000204963E9E10>, 'open': <function open at 0x00000204941756C0>, '_': '\\n# Execution flow\\n1. global - x, level_five\\n2. level_five is called, scope - z, donky, chonky, return - calls chonky\\n3. chonky - x, f -> calls donky -> inner, return - inner(\"y arg\")\\n4. donky - inner, returns inner\\n5. inner: y - local var, z - found in enclosing scope, x - global scope\\n', '__': '\\nIn the end inner() is called.\\n1. y - passed as an arg, found in the local scope.\\n2. x - not in local and enclosing scope, found in global.\\n3. z - not defined in the local scope, found in the enclosing scope.\\nz is reassigned before invoking inner()\\n', '___': '', '__vsc_ipynb_file__': 'Untitled-1.ipynb', '_i': 'def level_five():\\n    \\n    def inner():\\n        if False:\\n            a = None\\n        \\n        def gen_func():\\n            nonlocal a\\n            for v in range(10):\\n                a = v\\n                yield v \\n                \\n        return gen_func(), lambda: a\\n        \\n    gen, fun = inner()\\n    \\n    print(fun()) # throws NameError, because a is not defined\\n    next(gen)\\n    print(fun())\\n    next(gen)\\n    print(fun())\\n    next(gen)\\n    print(fun())\\n\\nlevel_five()', '_ii': '\\'\\'\\'\\n# Execution flow\\n1. global - x, level_five\\n2. level_five is called, scope - z, donky, chonky, return - calls chonky\\n3. chonky - x, f -> calls donky -> inner, return - inner(\"y arg\")\\n4. donky - inner, returns inner\\n5. inner: y - local var, z - found in enclosing scope, x - global scope\\n\\'\\'\\'', '_iii': 'x = \"global x\"\\n\\ndef level_four():\\n    z = \"outer z\"\\n    def donky():\\n        def inner(y):\\n            return x, y, z\\n        return inner\\n    \\n    def chonky():\\n        x = \"chonky x\"\\n        f = donky()\\n        return f(\"y arg\")\\n    \\n    return chonky()\\n\\nprint(level_four()) # (\\'global x\\', \\'y arg\\', \\'outer z\\')', '_i1': 'x = \"global x\"\\nprint(f\"Global variables: {globals().get(\\'x\\')}\")\\n\\ndef global_and_nonlocal():\\n    x = \"nonlocal x\"\\n    print(f\"Enclosing variables: {locals()}\")\\n\\n    def inner():\\n        nonlocal x\\n        x = \"overwritten nonglobal x\"\\n        print(f\"Local Vars: {locals()}\")\\n    \\n    inner()\\n    print(f\"Enclosing variables: {locals()}\")\\n\\nglobal_and_nonlocal()\\nprint(x) # global variable remains unchanged # global x', 'x': 'global x', 'global_and_nonlocal': <function global_and_nonlocal at 0x0000020496601F80>, '_i2': 'x = \"global x\"\\nprint(f\"Global variables: {globals().get(\\'x\\')}\")\\n\\ndef global_and_nonlocal():\\n    x = \"nonlocal x\"\\n    print(f\"Enclosing variables: {locals()}\")\\n\\n    def inner():\\n        nonlocal x\\n        x = \"overwritten nonglobal x\"\\n        print(f\"Local Vars: {locals()}\")\\n    \\n    inner()\\n    print(f\"Enclosing variables: {locals()}\")\\n\\nglobal_and_nonlocal()\\nprint(x) # global variable remains unchanged # global x', '_i3': 'x = \"global x\"\\nprint(f\"Global variables: {globals().get(\\'x\\')}\")\\n\\ndef global_and_nonlocal():\\n    x = \"nonlocal x\"\\n    print(f\"Enclosing variables: {locals()}\")\\n\\n    def inner():\\n        nonlocal x\\n        x = \"overwritten nonglobal x\"\\n        print(f\"Local Vars: {locals()}\")\\n    \\n    inner()\\n    print(f\"Enclosing variables: {locals()}\")\\n\\nglobal_and_nonlocal()\\nprint(x) # global variable remains unchanged # global x', '_i4': 'x = \"global x\"\\nprint(f\"Global variables: {globals().get(\\'x\\')}\")\\n\\ndef global_and_nonlocal():\\n    x = \"nonlocal x\"\\n    print(f\"Enclosing variables: {locals()}\")  # {\\'x\\': \\'nonlocal x\\'}\\n\\n    def inner():\\n        nonlocal x\\n        x = \"overwritten nonglobal x\"\\n        print(f\"Local Vars: {locals()}\") # {} no L vars\\n    \\n    inner()\\n    print(f\"Enclosing variables: {locals()}\") # \\'x\\': \\'overwritten nonglobal x\\'\\n\\nglobal_and_nonlocal()\\nprint(x) # global variable remains unchanged # global x', '_i5': 'x = \"global x\"\\nprint(f\"Global variables: {globals().get(\\'x\\')}\")\\n\\ndef global_and_nonlocal():\\n    x = \"nonlocal x\"\\n    print(f\"Enclosing variables: {locals()}\")  # {\\'x\\': \\'nonlocal x\\'}\\n\\n    def inner():\\n        global x\\n        x = \"overwritten global x\"\\n        print(f\"Local Vars: {locals()}\") # {} no L vars\\n    \\n    inner()\\n\\nglobal_and_nonlocal()\\nprint(x)', '_i6': 'def level_one():\\n    x = \"nonlocal x\"\\n    \\n    def level_two():\\n        nonlocal x\\n        x = \"modified at level two\"\\n\\n        level_three()\\n    \\n    def level_three():\\n        nonlocal x\\n        x = \"modified at level three\"\\n\\n    return level_two()\\n    \\n\\nlevel_one()', 'level_one': <function level_one at 0x00000204963DBEC0>, '_i7': 'def level_one():\\n    x = \"nonlocal x\"\\n    \\n    def level_two():\\n        nonlocal x\\n        x = \"modified at level two\"\\n\\n        level_three()\\n    \\n    def level_three():\\n        nonlocal x\\n        x = \"modified at level three\"\\n\\n    return level_two()\\n    \\n\\nlevel_one()\\nprint(x)', '_i8': 'def level_one():\\n    x = \"nonlocal x\"\\n    \\n    def level_two():\\n        nonlocal x\\n        x = \"modified at level two\"\\n        print(x)\\n        level_three()\\n    \\n    def level_three():\\n        nonlocal x\\n        x = \"modified at level three\"\\n        print(x)\\n\\n    return level_two()\\n    \\n\\nlevel_one()', '_i9': 'def level_one():\\n    x = \"nonlocal x\"\\n    \\n    def level_two():\\n        nonlocal x\\n        x = \"modified at level two\"\\n\\n        def level_three():\\n            nonlocal x\\n            x = \"modified at level three\"\\n\\n        level_three()\\n        print(f\"x after level three: {x}\")\\n\\n\\n    level_two()\\n    print(f\"x after level two: {x}\")\\n    \\n\\nlevel_one()', '_i10': '# using global is considered as bad practice\\n# fix - pass immutable data types as arguments.\\n# mutable - pass a copy to avoid modifications.\\n\\nurl = \"http://www.google.com\"\\n\\ndef modify_url():\\n    url = url.replace(\"http\", \"https\")\\n\\nprint(url)', 'url': 'https://www.google.com', 'modify_url': <function modify_url at 0x00000204965CD1C0>, '_i11': '# using global is considered as bad practice\\n# fix - pass immutable data types as arguments.\\n# mutable - pass a copy to avoid modifications.\\n\\nurl = \"http://www.google.com\"\\n\\ndef modify_url():\\n    url = url.replace(\"http\", \"https\")\\n\\nmodify_url()\\nprint(url)', '_i12': '# using global is considered as bad practice\\n# fix - pass immutable data types as arguments.\\n# mutable - pass a copy to avoid modifications.\\n\\nurl = \"http://www.google.com\"\\n\\ndef modify_url():\\n    global url\\n    url = url.replace(\"http\", \"https\")\\n\\nmodify_url()\\nprint(url)', '_i13': '# using global is considered as bad practice\\n# fix - pass immutable data types as arguments.\\n# mutable - pass a copy to avoid modifications.\\n\\nurl = \"http://www.google.com\"\\n\\n# bad practice\\ndef modify_url_bp():\\n    global url\\n    url = url.replace(\"http\", \"https\")\\n\\n# good practice\\ndef modify_url_gp(link):\\n    return link.replace(\"http\", \"https\")\\n\\nurl = modify_url_gp()\\nprint(url)', 'modify_url_bp': <function modify_url_bp at 0x0000020496B8F560>, 'modify_url_gp': <function modify_url_gp at 0x0000020496B8EF20>, '_i14': '# using global is considered as bad practice\\n# fix - pass immutable data types as arguments.\\n# mutable - pass a copy to avoid modifications.\\n\\nurl = \"http://www.google.com\"\\n\\n# bad practice\\ndef modify_url_bp():\\n    global url\\n    url = url.replace(\"http\", \"https\")\\n\\n# good practice\\ndef modify_url_gp(link):\\n    return link.replace(\"http\", \"https\")\\n\\nurl = modify_url_gp(url)\\nprint(url)', '_i15': '# using global is considered as bad practice\\n# fix - pass immutable data types as arguments.\\n# mutable - pass a copy to avoid modifications.\\n\\nurl = \"http://www.google.com\"\\n\\n# bad practice\\ndef modify_url_bp():\\n    global url\\n    url = url.replace(\"http\", \"https\")\\n\\n# good practice\\ndef modify_url_gp(link): # pass as parameter\\n    return link.replace(\"http\", \"https\")\\n\\nurl = modify_url_gp(url)\\nprint(url)', '_i16': 'counter = 0\\n\\ndef update_counter(count):\\n    return count + 1 \\n\\ncounter = update_counter(counter)\\nprint(counter)', 'counter': 3, 'update_counter': <function update_counter at 0x0000020496BEC400>, '_i17': 'counter = 0\\n\\ndef update_counter(count):\\n    return count + 1 \\n\\ncounter = update_counter(counter)\\nprint(counter)\\ncounter = update_counter(counter)\\nprint(counter)\\ncounter = update_counter(counter)\\nprint(counter)', '_i18': 'x = \"global x\"\\n\\ndef level_three():\\n    z = \"first outer z\"\\n\\n    def inner(y):\\n        return x, y, z\\n    \\n    z = \"second outer z\"\\n    print(inner.__closure__) # reference to enclosing func namespace\\n    print(inner.__globals__) # reference to global namespace\\n    return inner(\"y arg\")\\n\\nprint(level_three()) # (\\'global x\\', \\'y arg\\', \\'second outer z\\')', 'level_three': <function level_three at 0x0000020496BECA40>, '_i19': \"'''\\nIn the end inner() is called.\\n1. y - passed as an arg, found in the local scope.\\n2. x - not in local and enclosing scope, found in global.\\n3. z - not defined in the local scope, found in the enclosing scope.\\nz is reassigned before invoking inner()\\n'''\", '_19': '\\nIn the end inner() is called.\\n1. y - passed as an arg, found in the local scope.\\n2. x - not in local and enclosing scope, found in global.\\n3. z - not defined in the local scope, found in the enclosing scope.\\nz is reassigned before invoking inner()\\n', '_i20': 'x = \"global x\"\\n\\ndef level_four():\\n    z = \"outer z\"\\n    def donky():\\n        def inner(y):\\n            return x, y, z\\n        return inner\\n    \\n    def chonky():\\n        x = \"chonky x\"\\n        f = donky()\\n        return f(\"y arg\")\\n    \\n    return chonky()\\n\\nprint(level_four()) # (\\'global x\\', \\'y arg\\', \\'outer z\\')', 'level_four': <function level_four at 0x0000020496BEC680>, '_i21': '\\'\\'\\'\\n# Execution flow\\n1. global - x, level_five\\n2. level_five is called, scope - z, donky, chonky, return - calls chonky\\n3. chonky - x, f -> calls donky -> inner, return - inner(\"y arg\")\\n4. donky - inner, returns inner\\n5. inner: y - local var, z - found in enclosing scope, x - global scope\\n\\'\\'\\'', '_21': '\\n# Execution flow\\n1. global - x, level_five\\n2. level_five is called, scope - z, donky, chonky, return - calls chonky\\n3. chonky - x, f -> calls donky -> inner, return - inner(\"y arg\")\\n4. donky - inner, returns inner\\n5. inner: y - local var, z - found in enclosing scope, x - global scope\\n', '_i22': 'def level_five():\\n    \\n    def inner():\\n        if False:\\n            a = None\\n        \\n        def gen_func():\\n            nonlocal a\\n            for v in range(10):\\n                a = v\\n                yield v \\n                \\n        return gen_func(), lambda: a\\n        \\n    gen, fun = inner()\\n    \\n    print(fun()) # throws NameError, because a is not defined\\n    next(gen)\\n    print(fun())\\n    next(gen)\\n    print(fun())\\n    next(gen)\\n    print(fun())\\n\\nlevel_five()', 'level_five': <function level_five at 0x0000020496BEC5E0>, '_i23': 'x = \"global x\"\\n\\ndef level_three():\\n    z = \"first outer z\"\\n\\n    def inner(y):\\n        return x, y, z\\n    \\n    z = \"second outer z\"\\n    print(inner.__closure__) # reference to enclosing func namespace\\n    print(inner.__globals__) # reference to global namespace\\n    return inner(\"y arg\")\\n\\nprint(level_three()) # (\\'global x\\', \\'y arg\\', \\'second outer z\\')'}\n",
      "('global x', 'y arg', 'second outer z')\n"
     ]
    }
   ],
   "source": [
    "x = \"global x\"\n",
    "\n",
    "def level_three():\n",
    "    z = \"first outer z\"\n",
    "\n",
    "    def inner(y):\n",
    "        return x, y, z\n",
    "    \n",
    "    z = \"second outer z\"\n",
    "    print(inner.__closure__) # reference to enclosing func namespace\n",
    "    print(inner.__globals__) # reference to global namespace\n",
    "    return inner(\"y arg\")\n",
    "\n",
    "print(level_three()) # ('global x', 'y arg', 'second outer z')"
   ]
  },
  {
   "cell_type": "code",
   "execution_count": 24,
   "metadata": {},
   "outputs": [
    {
     "data": {
      "text/plain": [
       "'\\nIn the end inner() is called.\\n1. y - passed as an arg, found in the local scope.\\n2. x - not in local and enclosing scope, found in global.\\n3. z - not defined in the local scope, found in the enclosing scope.\\nz is reassigned before invoking inner()\\n'"
      ]
     },
     "execution_count": 24,
     "metadata": {},
     "output_type": "execute_result"
    }
   ],
   "source": [
    "'''\n",
    "In the end inner() is called.\n",
    "1. y - passed as an arg, found in the local scope.\n",
    "2. x - not in local and enclosing scope, found in global.\n",
    "3. z - not defined in the local scope, found in the enclosing scope.\n",
    "z is reassigned before invoking inner()\n",
    "'''"
   ]
  },
  {
   "cell_type": "code",
   "execution_count": 25,
   "metadata": {},
   "outputs": [
    {
     "name": "stdout",
     "output_type": "stream",
     "text": [
      "('global x', 'y arg', 'outer z')\n"
     ]
    }
   ],
   "source": [
    "x = \"global x\"\n",
    "\n",
    "def level_four():\n",
    "    z = \"outer z\"\n",
    "    def donky():\n",
    "        def inner(y):\n",
    "            return x, y, z\n",
    "        return inner\n",
    "    \n",
    "    def chonky():\n",
    "        x = \"chonky x\"\n",
    "        f = donky()\n",
    "        return f(\"y arg\")\n",
    "    \n",
    "    return chonky()\n",
    "\n",
    "print(level_four()) # ('global x', 'y arg', 'outer z')"
   ]
  },
  {
   "cell_type": "code",
   "execution_count": 26,
   "metadata": {},
   "outputs": [
    {
     "data": {
      "text/plain": [
       "'\\n# Execution flow\\n1. global - x, level_five\\n2. level_five is called, scope - z, donky, chonky, return - calls chonky\\n3. chonky - x, f -> calls donky -> inner, return - inner(\"y arg\")\\n4. donky - inner, returns inner\\n5. inner: y - local var, z - found in enclosing scope, x - global scope\\n'"
      ]
     },
     "execution_count": 26,
     "metadata": {},
     "output_type": "execute_result"
    }
   ],
   "source": [
    "'''\n",
    "# Execution flow\n",
    "1. global - x, level_five\n",
    "2. level_five is called, scope - z, donky, chonky, return - calls chonky\n",
    "3. chonky - x, f -> calls donky -> inner, return - inner(\"y arg\")\n",
    "4. donky - inner, returns inner\n",
    "5. inner: y - local var, z - found in enclosing scope, x - global scope\n",
    "'''"
   ]
  },
  {
   "cell_type": "code",
   "execution_count": 27,
   "metadata": {},
   "outputs": [
    {
     "name": "stdout",
     "output_type": "stream",
     "text": [
      "0\n",
      "1\n",
      "2\n"
     ]
    }
   ],
   "source": [
    "def level_five():\n",
    "    \n",
    "    def inner():\n",
    "        if False:\n",
    "            a = None\n",
    "        \n",
    "        def gen_func():\n",
    "            nonlocal a\n",
    "            for v in range(10):\n",
    "                a = v\n",
    "                yield v \n",
    "                \n",
    "        return gen_func(), lambda: a\n",
    "        \n",
    "    gen, fun = inner()\n",
    "    \n",
    "    # print(fun()) # throws NameError, because a is not defined\n",
    "    next(gen)\n",
    "    print(fun())\n",
    "    next(gen)\n",
    "    print(fun())\n",
    "    next(gen)\n",
    "    print(fun())\n",
    "\n",
    "level_five()"
   ]
  },
  {
   "cell_type": "code",
   "execution_count": 28,
   "metadata": {},
   "outputs": [
    {
     "data": {
      "text/plain": [
       "\"\\ngen - has generator instance; fun - lambda func returns a\\n1. Calling fun() first throws NameError: cannot access free variable 'a' where it is not associated with a value in enclosing scope\\n2. a is present in enclosing sope but unassigned before gen_func()\\n3. Free Variable - variables belonging to enclosing scope, that are used in local scope.\\n4. next(gen) - return 0 and assigns a = 0\\n5. Lambda are also functions and are treated as functions.\\n6. Generator is also treated as functions.\\n\\n\""
      ]
     },
     "execution_count": 28,
     "metadata": {},
     "output_type": "execute_result"
    }
   ],
   "source": [
    "'''\n",
    "gen - has generator instance; fun - lambda func returns a\n",
    "1. Calling fun() first throws NameError: cannot access free variable 'a' where it is not associated with a value in enclosing scope\n",
    "2. a is present in enclosing sope but unassigned before gen_func()\n",
    "3. Free Variable - variables belonging to enclosing scope, that are used in local scope.\n",
    "4. next(gen) - return 0 and assigns a = 0\n",
    "5. Lambda are also functions and are treated as functions.\n",
    "6. Generator is also treated as functions.\n",
    "\n",
    "'''"
   ]
  },
  {
   "cell_type": "markdown",
   "metadata": {},
   "source": [
    "### Exception cases LEGB rule"
   ]
  },
  {
   "cell_type": "code",
   "execution_count": null,
   "metadata": {},
   "outputs": [],
   "source": [
    "## 1. Comprehension\n",
    "\n",
    "listComp = [i for i in range(1, 6)]\n",
    "\n",
    "print(listComp)\n",
    "# print(i) # NameError: name 'i' is not defined. \n",
    "\n",
    "for i in range(1, 6):\n",
    "    print(i)\n",
    "\n",
    "print(i) # 5\n",
    "\n",
    "'''\n",
    "# Accessing loop variable\n",
    "1. Comprehension - result in NameError\n",
    "2. for loop - returns the last iterator value.\n",
    "\n",
    "'''"
   ]
  },
  {
   "cell_type": "code",
   "execution_count": null,
   "metadata": {},
   "outputs": [],
   "source": [
    "## 2. try-except block\n",
    "listComp = [i for i in range(1, 6)]\n",
    "try:\n",
    "    listComp[len(listComp)] \n",
    "except Exception as err:\n",
    "    print(err) # list index out of range\n",
    "\n",
    "print(err) # NameError: name 'err' is not defined\n",
    "# exception variable is local to the except block"
   ]
  },
  {
   "cell_type": "markdown",
   "metadata": {},
   "source": [
    "### Use of global and nonlocal statements"
   ]
  },
  {
   "cell_type": "code",
   "execution_count": null,
   "metadata": {},
   "outputs": [
    {
     "name": "stdout",
     "output_type": "stream",
     "text": [
      "Global variables: global x\n",
      "Enclosing variables: {'x': 'nonlocal x'}\n",
      "Local Vars: {}\n",
      "overwritten global x\n"
     ]
    }
   ],
   "source": [
    "x = \"global x\"\n",
    "print(f\"Global variables: {globals().get('x')}\") # Global variables: global x\n",
    "\n",
    "def global_and_nonlocal():\n",
    "    x = \"nonlocal x\"\n",
    "    print(f\"Enclosing variables: {locals()}\")  # {'x': 'nonlocal x'}\n",
    "\n",
    "    def inner():\n",
    "        global x\n",
    "        x = \"overwritten global x\"\n",
    "        print(f\"Local Vars: {locals()}\") # {} no L vars\n",
    "    \n",
    "    inner()\n",
    "\n",
    "global_and_nonlocal()\n",
    "print(x) # overwritten global x"
   ]
  },
  {
   "cell_type": "code",
   "execution_count": null,
   "metadata": {},
   "outputs": [],
   "source": [
    "'''\n",
    "1. globals() - returns global namespace\n",
    "2. locals() - returns local namespace.\n",
    "3. dir() - returns the objects in the current namespace.\n",
    "4. nonlocal - refers to a variable in an enclosing function (but not global).\n",
    "5. global - refers to a global variable, allowing modification.\n",
    "\n",
    "'''"
   ]
  },
  {
   "cell_type": "code",
   "execution_count": null,
   "metadata": {},
   "outputs": [
    {
     "name": "stdout",
     "output_type": "stream",
     "text": [
      "x after level three: modified at level three\n",
      "x after level two: modified at level three\n"
     ]
    }
   ],
   "source": [
    "def level_one():\n",
    "    x = \"nonlocal x\"\n",
    "    \n",
    "    def level_two():\n",
    "        nonlocal x\n",
    "        x = \"modified at level two\"\n",
    "\n",
    "        def level_three():\n",
    "            nonlocal x\n",
    "            x = \"modified at level three\"\n",
    "\n",
    "        level_three()\n",
    "        print(f\"x after level three: {x}\")\n",
    "\n",
    "    level_two()\n",
    "    print(f\"x after level two: {x}\")\n",
    "\n",
    "level_one()\n"
   ]
  },
  {
   "cell_type": "code",
   "execution_count": null,
   "metadata": {},
   "outputs": [
    {
     "name": "stdout",
     "output_type": "stream",
     "text": [
      "https://www.google.com\n"
     ]
    }
   ],
   "source": [
    "# using global is considered as bad practice\n",
    "# fix - pass immutable data types as arguments.\n",
    "# mutable - pass a copy to avoid modifications.\n",
    "\n",
    "url = \"http://www.google.com\"\n",
    "\n",
    "# bad practice\n",
    "def modify_url_bp():\n",
    "    global url\n",
    "    url = url.replace(\"http\", \"https\")\n",
    "\n",
    "# good practice\n",
    "def modify_url_gp(link): # pass as parameter\n",
    "    return link.replace(\"http\", \"https\")\n",
    "\n",
    "url = modify_url_gp(url)\n",
    "print(url)\n"
   ]
  },
  {
   "cell_type": "code",
   "execution_count": 17,
   "metadata": {},
   "outputs": [
    {
     "name": "stdout",
     "output_type": "stream",
     "text": [
      "1\n",
      "2\n",
      "3\n"
     ]
    }
   ],
   "source": [
    "counter = 0\n",
    "\n",
    "def update_counter(count):\n",
    "    return count + 1 \n",
    "\n",
    "counter = update_counter(counter)\n",
    "print(counter)\n",
    "counter = update_counter(counter)\n",
    "print(counter)\n",
    "counter = update_counter(counter)\n",
    "print(counter)"
   ]
  }
 ],
 "metadata": {
  "kernelspec": {
   "display_name": "Python 3",
   "language": "python",
   "name": "python3"
  },
  "language_info": {
   "codemirror_mode": {
    "name": "ipython",
    "version": 3
   },
   "file_extension": ".py",
   "mimetype": "text/x-python",
   "name": "python",
   "nbconvert_exporter": "python",
   "pygments_lexer": "ipython3",
   "version": "3.11.9"
  }
 },
 "nbformat": 4,
 "nbformat_minor": 2
}
